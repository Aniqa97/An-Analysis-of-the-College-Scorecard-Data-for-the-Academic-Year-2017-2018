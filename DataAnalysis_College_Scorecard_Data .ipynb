{
 "cells": [
  {
   "cell_type": "markdown",
   "metadata": {},
   "source": [
    "## An Analysis of the College Scorecard Data for the Academic Year 2017-2018\n",
    "\n",
    "I will be analysing data from the year 2017-2018 and will be looking at the following question;\n",
    "\n",
    "\n",
    "1. How are the instituitions spread across the US? i.e which state has the most instituiitons. \n",
    "\n",
    "2. Which states have the most instituitions?\n",
    "\n",
    "3. How is the governance structure distributed ?\n",
    "\n",
    "4.  What is the distribution of the highest awards granted by the institutions?\n",
    "\n",
    "5.  What is the distribution of the prediminant awards granted by the institutions?\n",
    "\n",
    "6. How much net revenue on average do public and private schools generate per student?\n",
    "\n",
    "7. How is an instution's Net Tuition Fee per Full Time Student correlated to its admission rate?\n",
    "\n",
    "8. Finally we will use ML to see if a student's application will be accepted or not."
   ]
  },
  {
   "cell_type": "code",
   "execution_count": 1,
   "metadata": {},
   "outputs": [],
   "source": [
    "import pandas as pd\n",
    "pd.options.mode.chained_assignment = None \n",
    "import matplotlib.pyplot as plt\n",
    "import seaborn as sns\n",
    "import numpy as np\n",
    "from sklearn.preprocessing import MinMaxScaler\n",
    "from sklearn.model_selection import train_test_split\n",
    "from sklearn.linear_model import LogisticRegression\n",
    "from sklearn.metrics import confusion_matrix\n",
    "from sklearn.linear_model import LogisticRegression\n",
    "from sklearn import tree\n",
    "from sklearn.metrics import confusion_matrix\n",
    "from scipy import stats\n",
    "from warnings import simplefilter\n",
    "simplefilter(action='ignore', category=FutureWarning)"
   ]
  },
  {
   "cell_type": "markdown",
   "metadata": {},
   "source": [
    "Storing the dataset into a pandas dataframe\n"
   ]
  },
  {
   "cell_type": "code",
   "execution_count": 2,
   "metadata": {},
   "outputs": [],
   "source": [
    "df_cs=pd.read_csv('MERGED2017_18_PP.csv',low_memory=False)"
   ]
  },
  {
   "cell_type": "code",
   "execution_count": 3,
   "metadata": {},
   "outputs": [
    {
     "name": "stdout",
     "output_type": "stream",
     "text": [
      "<class 'pandas.core.frame.DataFrame'>\n",
      "RangeIndex: 7112 entries, 0 to 7111\n",
      "Columns: 1977 entries, UNITID to OMENRUP_PARTTIME_POOLED_SUPP\n",
      "dtypes: float64(1862), int64(14), object(101)\n",
      "memory usage: 107.3+ MB\n"
     ]
    },
    {
     "data": {
      "text/html": [
       "<div>\n",
       "<style scoped>\n",
       "    .dataframe tbody tr th:only-of-type {\n",
       "        vertical-align: middle;\n",
       "    }\n",
       "\n",
       "    .dataframe tbody tr th {\n",
       "        vertical-align: top;\n",
       "    }\n",
       "\n",
       "    .dataframe thead th {\n",
       "        text-align: right;\n",
       "    }\n",
       "</style>\n",
       "<table border=\"1\" class=\"dataframe\">\n",
       "  <thead>\n",
       "    <tr style=\"text-align: right;\">\n",
       "      <th></th>\n",
       "      <th>UNITID</th>\n",
       "      <th>OPEID</th>\n",
       "      <th>OPEID6</th>\n",
       "      <th>INSTNM</th>\n",
       "      <th>CITY</th>\n",
       "      <th>STABBR</th>\n",
       "      <th>ZIP</th>\n",
       "      <th>ACCREDAGENCY</th>\n",
       "      <th>INSTURL</th>\n",
       "      <th>NPCURL</th>\n",
       "      <th>...</th>\n",
       "      <th>OMAWDP8_NOTFIRSTTIME_POOLED_SUPP</th>\n",
       "      <th>OMENRUP_NOTFIRSTTIME_POOLED_SUPP</th>\n",
       "      <th>OMENRYP_FULLTIME_POOLED_SUPP</th>\n",
       "      <th>OMENRAP_FULLTIME_POOLED_SUPP</th>\n",
       "      <th>OMAWDP8_FULLTIME_POOLED_SUPP</th>\n",
       "      <th>OMENRUP_FULLTIME_POOLED_SUPP</th>\n",
       "      <th>OMENRYP_PARTTIME_POOLED_SUPP</th>\n",
       "      <th>OMENRAP_PARTTIME_POOLED_SUPP</th>\n",
       "      <th>OMAWDP8_PARTTIME_POOLED_SUPP</th>\n",
       "      <th>OMENRUP_PARTTIME_POOLED_SUPP</th>\n",
       "    </tr>\n",
       "  </thead>\n",
       "  <tbody>\n",
       "    <tr>\n",
       "      <td>0</td>\n",
       "      <td>100654</td>\n",
       "      <td>100200</td>\n",
       "      <td>1002</td>\n",
       "      <td>Alabama A &amp; M University</td>\n",
       "      <td>Normal</td>\n",
       "      <td>AL</td>\n",
       "      <td>35762</td>\n",
       "      <td>Southern Association of Colleges and Schools C...</td>\n",
       "      <td>www.aamu.edu/</td>\n",
       "      <td>https://galileo.aamu.edu/NetPriceCalculator/np...</td>\n",
       "      <td>...</td>\n",
       "      <td>0.4048</td>\n",
       "      <td>0.2645</td>\n",
       "      <td>0.0137</td>\n",
       "      <td>0.315</td>\n",
       "      <td>0.3755</td>\n",
       "      <td>0.2958</td>\n",
       "      <td>0.0289</td>\n",
       "      <td>0.4224</td>\n",
       "      <td>0.2635</td>\n",
       "      <td>0.2852</td>\n",
       "    </tr>\n",
       "    <tr>\n",
       "      <td>1</td>\n",
       "      <td>100663</td>\n",
       "      <td>105200</td>\n",
       "      <td>1052</td>\n",
       "      <td>University of Alabama at Birmingham</td>\n",
       "      <td>Birmingham</td>\n",
       "      <td>AL</td>\n",
       "      <td>35294-0110</td>\n",
       "      <td>Southern Association of Colleges and Schools C...</td>\n",
       "      <td>www.uab.edu</td>\n",
       "      <td>uab.studentaidcalculator.com/survey.aspx</td>\n",
       "      <td>...</td>\n",
       "      <td>0.5448</td>\n",
       "      <td>0.12</td>\n",
       "      <td>0.0728</td>\n",
       "      <td>0.2583</td>\n",
       "      <td>0.5872</td>\n",
       "      <td>0.0817</td>\n",
       "      <td>0.1398</td>\n",
       "      <td>0.2618</td>\n",
       "      <td>0.3977</td>\n",
       "      <td>0.2008</td>\n",
       "    </tr>\n",
       "    <tr>\n",
       "      <td>2</td>\n",
       "      <td>100690</td>\n",
       "      <td>2503400</td>\n",
       "      <td>25034</td>\n",
       "      <td>Amridge University</td>\n",
       "      <td>Montgomery</td>\n",
       "      <td>AL</td>\n",
       "      <td>36117-3553</td>\n",
       "      <td>Southern Association of Colleges and Schools C...</td>\n",
       "      <td>www.amridgeuniversity.edu</td>\n",
       "      <td>www2.amridgeuniversity.edu:9091/</td>\n",
       "      <td>...</td>\n",
       "      <td>0.4647</td>\n",
       "      <td>0.1912</td>\n",
       "      <td>0.0148</td>\n",
       "      <td>0.3284</td>\n",
       "      <td>0.4391</td>\n",
       "      <td>0.2177</td>\n",
       "      <td>0.028</td>\n",
       "      <td>0.3645</td>\n",
       "      <td>0.4486</td>\n",
       "      <td>0.1589</td>\n",
       "    </tr>\n",
       "    <tr>\n",
       "      <td>3</td>\n",
       "      <td>100706</td>\n",
       "      <td>105500</td>\n",
       "      <td>1055</td>\n",
       "      <td>University of Alabama in Huntsville</td>\n",
       "      <td>Huntsville</td>\n",
       "      <td>AL</td>\n",
       "      <td>35899</td>\n",
       "      <td>Southern Association of Colleges and Schools C...</td>\n",
       "      <td>www.uah.edu</td>\n",
       "      <td>finaid.uah.edu/</td>\n",
       "      <td>...</td>\n",
       "      <td>0.5121</td>\n",
       "      <td>0.1593</td>\n",
       "      <td>0.0165</td>\n",
       "      <td>0.323</td>\n",
       "      <td>0.5361</td>\n",
       "      <td>0.1243</td>\n",
       "      <td>0.0245</td>\n",
       "      <td>0.3947</td>\n",
       "      <td>0.3476</td>\n",
       "      <td>0.2331</td>\n",
       "    </tr>\n",
       "    <tr>\n",
       "      <td>4</td>\n",
       "      <td>100724</td>\n",
       "      <td>100500</td>\n",
       "      <td>1005</td>\n",
       "      <td>Alabama State University</td>\n",
       "      <td>Montgomery</td>\n",
       "      <td>AL</td>\n",
       "      <td>36104-0271</td>\n",
       "      <td>Southern Association of Colleges and Schools C...</td>\n",
       "      <td>www.alasu.edu</td>\n",
       "      <td>www.alasu.edu/cost-aid/forms/calculator/index....</td>\n",
       "      <td>...</td>\n",
       "      <td>0.4226</td>\n",
       "      <td>0.0754</td>\n",
       "      <td>0.0254</td>\n",
       "      <td>0.5327</td>\n",
       "      <td>0.3133</td>\n",
       "      <td>0.1286</td>\n",
       "      <td>0.021</td>\n",
       "      <td>0.5804</td>\n",
       "      <td>0.1678</td>\n",
       "      <td>0.2308</td>\n",
       "    </tr>\n",
       "  </tbody>\n",
       "</table>\n",
       "<p>5 rows × 1977 columns</p>\n",
       "</div>"
      ],
      "text/plain": [
       "   UNITID    OPEID  OPEID6                               INSTNM        CITY  \\\n",
       "0  100654   100200    1002             Alabama A & M University      Normal   \n",
       "1  100663   105200    1052  University of Alabama at Birmingham  Birmingham   \n",
       "2  100690  2503400   25034                   Amridge University  Montgomery   \n",
       "3  100706   105500    1055  University of Alabama in Huntsville  Huntsville   \n",
       "4  100724   100500    1005             Alabama State University  Montgomery   \n",
       "\n",
       "  STABBR         ZIP                                       ACCREDAGENCY  \\\n",
       "0     AL       35762  Southern Association of Colleges and Schools C...   \n",
       "1     AL  35294-0110  Southern Association of Colleges and Schools C...   \n",
       "2     AL  36117-3553  Southern Association of Colleges and Schools C...   \n",
       "3     AL       35899  Southern Association of Colleges and Schools C...   \n",
       "4     AL  36104-0271  Southern Association of Colleges and Schools C...   \n",
       "\n",
       "                     INSTURL  \\\n",
       "0              www.aamu.edu/   \n",
       "1                www.uab.edu   \n",
       "2  www.amridgeuniversity.edu   \n",
       "3                www.uah.edu   \n",
       "4              www.alasu.edu   \n",
       "\n",
       "                                              NPCURL  ...  \\\n",
       "0  https://galileo.aamu.edu/NetPriceCalculator/np...  ...   \n",
       "1           uab.studentaidcalculator.com/survey.aspx  ...   \n",
       "2                   www2.amridgeuniversity.edu:9091/  ...   \n",
       "3                                    finaid.uah.edu/  ...   \n",
       "4  www.alasu.edu/cost-aid/forms/calculator/index....  ...   \n",
       "\n",
       "   OMAWDP8_NOTFIRSTTIME_POOLED_SUPP  OMENRUP_NOTFIRSTTIME_POOLED_SUPP  \\\n",
       "0                            0.4048                            0.2645   \n",
       "1                            0.5448                              0.12   \n",
       "2                            0.4647                            0.1912   \n",
       "3                            0.5121                            0.1593   \n",
       "4                            0.4226                            0.0754   \n",
       "\n",
       "   OMENRYP_FULLTIME_POOLED_SUPP  OMENRAP_FULLTIME_POOLED_SUPP  \\\n",
       "0                        0.0137                         0.315   \n",
       "1                        0.0728                        0.2583   \n",
       "2                        0.0148                        0.3284   \n",
       "3                        0.0165                         0.323   \n",
       "4                        0.0254                        0.5327   \n",
       "\n",
       "   OMAWDP8_FULLTIME_POOLED_SUPP  OMENRUP_FULLTIME_POOLED_SUPP  \\\n",
       "0                        0.3755                        0.2958   \n",
       "1                        0.5872                        0.0817   \n",
       "2                        0.4391                        0.2177   \n",
       "3                        0.5361                        0.1243   \n",
       "4                        0.3133                        0.1286   \n",
       "\n",
       "   OMENRYP_PARTTIME_POOLED_SUPP  OMENRAP_PARTTIME_POOLED_SUPP  \\\n",
       "0                        0.0289                        0.4224   \n",
       "1                        0.1398                        0.2618   \n",
       "2                         0.028                        0.3645   \n",
       "3                        0.0245                        0.3947   \n",
       "4                         0.021                        0.5804   \n",
       "\n",
       "   OMAWDP8_PARTTIME_POOLED_SUPP  OMENRUP_PARTTIME_POOLED_SUPP  \n",
       "0                        0.2635                        0.2852  \n",
       "1                        0.3977                        0.2008  \n",
       "2                        0.4486                        0.1589  \n",
       "3                        0.3476                        0.2331  \n",
       "4                        0.1678                        0.2308  \n",
       "\n",
       "[5 rows x 1977 columns]"
      ]
     },
     "execution_count": 3,
     "metadata": {},
     "output_type": "execute_result"
    }
   ],
   "source": [
    "df_cs.info()\n",
    "df_cs.describe()\n",
    "df_cs.head()"
   ]
  },
  {
   "cell_type": "markdown",
   "metadata": {},
   "source": [
    "The dataset has 1977 columns with most of them NULL. Inorder to make this more tidy and make my analyses convinient, I will only look into particular columns. After going through the documentation of this dataset, I selected a few particular variables that would be of use to my analyses.  \n",
    "\n",
    "The Columns that are of use to my analyses are:\n",
    ">UNITID - Unique ID of the institutes\n",
    "\n",
    ">INSTNM - Institue Name\n",
    "\n",
    ">CITY, STABBR\n",
    "\n",
    ">NUMBRANCH - Number of branch campuses of that institution.\n",
    "\n",
    ">HIGHDEG - Highest award level granted by the institution.\n",
    "\n",
    ">PREDDEG - Which award is predominently granted by the institution.\n",
    "\n",
    ">CONTROL - Is the institution public, private nonprofit, or private for-profit.\n",
    "\n",
    ">DISTANCEONLY - Is it an online only institution?\n",
    "\n",
    ">TUITFTE - The net tuition revenue per full-time equivalent (FTE) student.\n",
    "\n",
    ">AVGFACSAL -The average faculty salary.\n",
    "\n",
    ">ADM_RATE_ALL -  Admission Rate\n",
    "\n",
    ">UGDS - Number of degree/certificate-seeking undergraduates enrolled in fall.\n",
    "\n",
    "> SATVR25, SATVR75, SATMT25, SATMT75, ACTCM25, ACTCM75 - This is the data for 25h and 75th percentile for the SAT reading and Maths and the ACT.\n",
    "\n",
    ">PCTFLOAN - The share of undergraduate students who received federal loans in a given year.\n"
   ]
  },
  {
   "cell_type": "markdown",
   "metadata": {},
   "source": [
    "I will now be cleaning the data.\n"
   ]
  },
  {
   "cell_type": "code",
   "execution_count": 4,
   "metadata": {},
   "outputs": [
    {
     "data": {
      "text/plain": [
       "(7112, 20)"
      ]
     },
     "execution_count": 4,
     "metadata": {},
     "output_type": "execute_result"
    }
   ],
   "source": [
    "cols = ['UNITID', 'INSTNM', 'CITY', 'STABBR', 'NUMBRANCH', 'HIGHDEG', 'PREDDEG', 'CONTROL', 'DISTANCEONLY', \n",
    "                    'TUITFTE', 'AVGFACSAL', 'ADM_RATE_ALL', 'UGDS', 'PCTFLOAN', 'SATVR25', 'SATVR75','SATMT25','SATMT75','ACTCM25','ACTCM75' ]\n",
    "\n",
    "df_cs_clean = df_cs[cols]\n",
    "\n",
    "df_cs_clean.shape"
   ]
  },
  {
   "cell_type": "markdown",
   "metadata": {},
   "source": [
    "The dataset has 7112 rows and 20 variables that we chose. We will further examine the type of these variables."
   ]
  },
  {
   "cell_type": "code",
   "execution_count": 5,
   "metadata": {},
   "outputs": [
    {
     "name": "stdout",
     "output_type": "stream",
     "text": [
      "<class 'pandas.core.frame.DataFrame'>\n",
      "RangeIndex: 7112 entries, 0 to 7111\n",
      "Data columns (total 20 columns):\n",
      "UNITID          7112 non-null int64\n",
      "INSTNM          7112 non-null object\n",
      "CITY            7112 non-null object\n",
      "STABBR          7112 non-null object\n",
      "NUMBRANCH       7112 non-null int64\n",
      "HIGHDEG         7112 non-null int64\n",
      "PREDDEG         7112 non-null int64\n",
      "CONTROL         7112 non-null int64\n",
      "DISTANCEONLY    6668 non-null float64\n",
      "TUITFTE         6644 non-null float64\n",
      "AVGFACSAL       4245 non-null float64\n",
      "ADM_RATE_ALL    2250 non-null float64\n",
      "UGDS            6364 non-null float64\n",
      "PCTFLOAN        6342 non-null float64\n",
      "SATVR25         1238 non-null float64\n",
      "SATVR75         1238 non-null float64\n",
      "SATMT25         1238 non-null float64\n",
      "SATMT75         1238 non-null float64\n",
      "ACTCM25         1292 non-null float64\n",
      "ACTCM75         1292 non-null float64\n",
      "dtypes: float64(12), int64(5), object(3)\n",
      "memory usage: 1.1+ MB\n"
     ]
    }
   ],
   "source": [
    "df_cs_clean.info()"
   ]
  },
  {
   "cell_type": "markdown",
   "metadata": {},
   "source": [
    "Some of the variables are stored as the wrong type.HIGHDEG, PREDEG and CONTROL are all categorical variables but are stored as int64. Converting them back to categorical values will make our analysis easier.\n"
   ]
  },
  {
   "cell_type": "markdown",
   "metadata": {},
   "source": [
    "For both HIGHDEG and PREDEG, the documentation maps their categorical values to numeric values as follows: \n",
    "\n",
    ">0 - N/A\n",
    "\n",
    ">1 - CERTIFICATE\n",
    "\n",
    ">2 - ASSOCIATE'S DEGREE\n",
    "\n",
    ">3 - BACHELOR'S DEGREE\n",
    "\n",
    ">4 - GRADUATE'S DEGREE"
   ]
  },
  {
   "cell_type": "code",
   "execution_count": 6,
   "metadata": {},
   "outputs": [],
   "source": [
    "df_cs_clean['PREDDEG'].replace(to_replace = {0: np.nan, 1:'Certificate', 2:\"Associate's\", 3:\"Bachelor's\", \n",
    "                                                       4:\"Graduate's\"}, \n",
    "                                         inplace = True)\n",
    "\n",
    "df_cs_clean['HIGHDEG'].replace(to_replace = {0: np.nan, 1:'Certificate', 2:\"Associate's\", 3:\"Bachelor's\", \n",
    "                                                       4:\"Graduate's\"}, \n",
    "                                         inplace = True)\n",
    "\n",
    "\n",
    "df_cs_clean['PREDDEG'] = pd.Categorical(df_cs_clean.PREDDEG, categories = ['Certificate', \"Associate's\", \"Bachelor's\", \"Graduate's\"],\n",
    "                                    ordered = True)\n",
    "\n",
    "\n",
    "df_cs_clean['HIGHDEG'] = pd.Categorical(df_cs_clean.HIGHDEG, categories = ['Certificate', \"Associate's\", \"Bachelor's\", \"Graduate's\"],\n",
    "                                    ordered = True)"
   ]
  },
  {
   "cell_type": "code",
   "execution_count": 7,
   "metadata": {},
   "outputs": [
    {
     "data": {
      "text/plain": [
       "0    Bachelor's\n",
       "1    Bachelor's\n",
       "2    Bachelor's\n",
       "3    Bachelor's\n",
       "4    Bachelor's\n",
       "Name: PREDDEG, dtype: category\n",
       "Categories (4, object): [Certificate < Associate's < Bachelor's < Graduate's]"
      ]
     },
     "execution_count": 7,
     "metadata": {},
     "output_type": "execute_result"
    }
   ],
   "source": [
    "df_cs_clean['PREDDEG'].head()\n"
   ]
  },
  {
   "cell_type": "code",
   "execution_count": 8,
   "metadata": {},
   "outputs": [
    {
     "data": {
      "text/plain": [
       "0    Graduate's\n",
       "1    Graduate's\n",
       "2    Graduate's\n",
       "3    Graduate's\n",
       "4    Graduate's\n",
       "Name: HIGHDEG, dtype: category\n",
       "Categories (4, object): [Certificate < Associate's < Bachelor's < Graduate's]"
      ]
     },
     "execution_count": 8,
     "metadata": {},
     "output_type": "execute_result"
    }
   ],
   "source": [
    "df_cs_clean['HIGHDEG'].head()"
   ]
  },
  {
   "cell_type": "markdown",
   "metadata": {},
   "source": [
    "Now looking at the documentation, DISTANCEONLY has 2 categories, Yes (given by 1.0) and No (given by 1.0). However, it's stored as float64. We will be fixing that now."
   ]
  },
  {
   "cell_type": "code",
   "execution_count": 9,
   "metadata": {},
   "outputs": [],
   "source": [
    "df_cs_clean.DISTANCEONLY.replace(to_replace = {0.0: 'No', 1.0: 'Yes'}, inplace = True)\n",
    "\n",
    "df_cs_clean['DISTANCEONLY'] = pd.Categorical(df_cs_clean.DISTANCEONLY, categories = ['No', 'Yes'], ordered = False)"
   ]
  },
  {
   "cell_type": "code",
   "execution_count": 10,
   "metadata": {},
   "outputs": [
    {
     "name": "stdout",
     "output_type": "stream",
     "text": [
      "<class 'pandas.core.frame.DataFrame'>\n",
      "RangeIndex: 7112 entries, 0 to 7111\n",
      "Data columns (total 20 columns):\n",
      "UNITID          7112 non-null int64\n",
      "INSTNM          7112 non-null object\n",
      "CITY            7112 non-null object\n",
      "STABBR          7112 non-null object\n",
      "NUMBRANCH       7112 non-null int64\n",
      "HIGHDEG         6637 non-null category\n",
      "PREDDEG         6664 non-null category\n",
      "CONTROL         7112 non-null int64\n",
      "DISTANCEONLY    6668 non-null category\n",
      "TUITFTE         6644 non-null float64\n",
      "AVGFACSAL       4245 non-null float64\n",
      "ADM_RATE_ALL    2250 non-null float64\n",
      "UGDS            6364 non-null float64\n",
      "PCTFLOAN        6342 non-null float64\n",
      "SATVR25         1238 non-null float64\n",
      "SATVR75         1238 non-null float64\n",
      "SATMT25         1238 non-null float64\n",
      "SATMT75         1238 non-null float64\n",
      "ACTCM25         1292 non-null float64\n",
      "ACTCM75         1292 non-null float64\n",
      "dtypes: category(3), float64(11), int64(3), object(3)\n",
      "memory usage: 966.0+ KB\n"
     ]
    }
   ],
   "source": [
    "df_cs_clean.info()"
   ]
  },
  {
   "cell_type": "markdown",
   "metadata": {},
   "source": [
    "Control is also a categorical variable as it has 3 categories; \n",
    ">1 - Public\n",
    "\n",
    ">2 - Private Nonprofit\n",
    "\n",
    ">3 - Private For-Profit"
   ]
  },
  {
   "cell_type": "code",
   "execution_count": 11,
   "metadata": {},
   "outputs": [],
   "source": [
    "df_cs_clean.CONTROL.replace(to_replace = {1: 'Public', 2: 'Private Nonprofit', 3: 'Private For-Profit'}, inplace = True)\n",
    "\n",
    "df_cs_clean['CONTROL'] = pd.Categorical(df_cs_clean.CONTROL, categories = ['Public', 'Private Nonprofit', 'Private For-Profit'],\n",
    "                                    ordered = False)\n"
   ]
  },
  {
   "cell_type": "code",
   "execution_count": 12,
   "metadata": {},
   "outputs": [
    {
     "name": "stdout",
     "output_type": "stream",
     "text": [
      "<class 'pandas.core.frame.DataFrame'>\n",
      "RangeIndex: 7112 entries, 0 to 7111\n",
      "Data columns (total 20 columns):\n",
      "UNITID          7112 non-null int64\n",
      "INSTNM          7112 non-null object\n",
      "CITY            7112 non-null object\n",
      "STABBR          7112 non-null object\n",
      "NUMBRANCH       7112 non-null int64\n",
      "HIGHDEG         6637 non-null category\n",
      "PREDDEG         6664 non-null category\n",
      "CONTROL         7112 non-null category\n",
      "DISTANCEONLY    6668 non-null category\n",
      "TUITFTE         6644 non-null float64\n",
      "AVGFACSAL       4245 non-null float64\n",
      "ADM_RATE_ALL    2250 non-null float64\n",
      "UGDS            6364 non-null float64\n",
      "PCTFLOAN        6342 non-null float64\n",
      "SATVR25         1238 non-null float64\n",
      "SATVR75         1238 non-null float64\n",
      "SATMT25         1238 non-null float64\n",
      "SATMT75         1238 non-null float64\n",
      "ACTCM25         1292 non-null float64\n",
      "ACTCM75         1292 non-null float64\n",
      "dtypes: category(4), float64(11), int64(2), object(3)\n",
      "memory usage: 917.5+ KB\n"
     ]
    }
   ],
   "source": [
    "df_cs_clean.info()"
   ]
  },
  {
   "cell_type": "markdown",
   "metadata": {},
   "source": [
    "I will now convert all the float64 values to int64 inorder to perform supervised learning later on. I would also have to replace the NaN values to 0 inorder to make this conversion."
   ]
  },
  {
   "cell_type": "code",
   "execution_count": null,
   "metadata": {},
   "outputs": [],
   "source": []
  },
  {
   "cell_type": "markdown",
   "metadata": {},
   "source": [
    "Now we will look at the cleaned dataset and store it in a different variable for further analyses."
   ]
  },
  {
   "cell_type": "code",
   "execution_count": 13,
   "metadata": {},
   "outputs": [
    {
     "name": "stdout",
     "output_type": "stream",
     "text": [
      "<class 'pandas.core.frame.DataFrame'>\n",
      "RangeIndex: 7112 entries, 0 to 7111\n",
      "Data columns (total 20 columns):\n",
      "UNITID          7112 non-null int64\n",
      "INSTNM          7112 non-null object\n",
      "CITY            7112 non-null object\n",
      "STABBR          7112 non-null object\n",
      "NUMBRANCH       7112 non-null int64\n",
      "HIGHDEG         6637 non-null category\n",
      "PREDDEG         6664 non-null category\n",
      "CONTROL         7112 non-null category\n",
      "DISTANCEONLY    6668 non-null category\n",
      "TUITFTE         6644 non-null float64\n",
      "AVGFACSAL       4245 non-null float64\n",
      "ADM_RATE_ALL    2250 non-null float64\n",
      "UGDS            6364 non-null float64\n",
      "PCTFLOAN        6342 non-null float64\n",
      "SATVR25         1238 non-null float64\n",
      "SATVR75         1238 non-null float64\n",
      "SATMT25         1238 non-null float64\n",
      "SATMT75         1238 non-null float64\n",
      "ACTCM25         1292 non-null float64\n",
      "ACTCM75         1292 non-null float64\n",
      "dtypes: category(4), float64(11), int64(2), object(3)\n",
      "memory usage: 917.5+ KB\n"
     ]
    }
   ],
   "source": [
    "df_cs_clean.info()\n"
   ]
  },
  {
   "cell_type": "code",
   "execution_count": 14,
   "metadata": {},
   "outputs": [],
   "source": [
    "df_copy = df_cs_clean.copy()"
   ]
  },
  {
   "cell_type": "markdown",
   "metadata": {},
   "source": [
    "Now I will analyse the dataset and answer the questions that I presentated above.\n"
   ]
  },
  {
   "cell_type": "markdown",
   "metadata": {},
   "source": [
    "#### _Which states have the highest number of instituitions?_\n",
    "\n",
    "\n",
    "To answer this, we will plot a simple bargraph of the states (STABBR) and its value counts."
   ]
  },
  {
   "cell_type": "code",
   "execution_count": 15,
   "metadata": {},
   "outputs": [
    {
     "data": {
      "text/plain": [
       "Text(0.5,0,'State')"
      ]
     },
     "execution_count": 15,
     "metadata": {},
     "output_type": "execute_result"
    },
    {
     "data": {
      "image/png": "[encoded data removed]",
      "text/plain": [
       "<Figure size 3600x1440 with 1 Axes>"
      ]
     },
     "metadata": {
      "needs_background": "light"
     },
     "output_type": "display_data"
    }
   ],
   "source": [
    "plt.figure(figsize = (50,20))\n",
    "\n",
    "x=  df_copy.STABBR.value_counts().index\n",
    "y = df_copy.STABBR.value_counts().values\n",
    "\n",
    "# Plot the states vs their value counts\n",
    "plot = sns.barplot(x, y)\n",
    "\n",
    "plot.tick_params(axis='both', which='major', labelsize=20)\n",
    "plot.tick_params(axis='both', which='minor', labelsize=15)\n",
    "plt.ylabel('No. of Institutions', fontsize = 20)\n",
    "plt.xlabel('State', fontsize = 20)\n",
    "\n"
   ]
  },
  {
   "cell_type": "markdown",
   "metadata": {},
   "source": [
    ">A seen in the graph, California has the most number of institutions while New York, Texas, Florida and Pennyslvania come close. \n",
    "As for the lowest, MH, PW, FM ,MP and AS each have 1 institute. These are actually commonwealth territories which arent exactly states."
   ]
  },
  {
   "cell_type": "markdown",
   "metadata": {},
   "source": [
    "Now we will be answering the second question;\n",
    "\n",
    "#### _How is the governance structure distributed ?_"
   ]
  },
  {
   "cell_type": "code",
   "execution_count": 16,
   "metadata": {
    "scrolled": true
   },
   "outputs": [
    {
     "name": "stdout",
     "output_type": "stream",
     "text": [
      "Public =  29.190101237345335\n",
      "Private NonProfit =  28.69797525309336\n",
      "Private For-Profit =  42.11192350956131\n"
     ]
    },
    {
     "data": {
      "image/png": "[encoded data removed]",
      "text/plain": [
       "<Figure size 3600x1440 with 1 Axes>"
      ]
     },
     "metadata": {
      "needs_background": "light"
     },
     "output_type": "display_data"
    }
   ],
   "source": [
    "plt.figure(figsize = (50,20))\n",
    "\n",
    "x=  df_copy.CONTROL.value_counts().index\n",
    "y = df_copy.CONTROL.value_counts().values\n",
    "\n",
    "# Plot the Structure vs their value counts\n",
    "plot = sns.barplot(x, y)\n",
    "\n",
    "plot.tick_params(axis='both', which='major', labelsize=30)\n",
    "plot.tick_params(axis='both', which='minor', labelsize=35)\n",
    "plt.ylabel('No. of Institutions', fontsize = 50)\n",
    "plt.xlabel('Governance Structure', fontsize = 50)\n",
    "\n",
    "percentage = (df_copy.CONTROL.value_counts()/df_copy.shape[0])*100\n",
    "\n",
    "print('Public = ', percentage[0])\n",
    "print('Private NonProfit = ', percentage[1])\n",
    "print('Private For-Profit = ', percentage[2])"
   ]
  },
  {
   "cell_type": "markdown",
   "metadata": {},
   "source": [
    ">As seen in the analyses above, the number of Public and Private Nonprofit institutions is approximately the same. The number of Private For-Profit institutions is the highest with around 42% of all institutions in the US belonging to this structure."
   ]
  },
  {
   "cell_type": "markdown",
   "metadata": {},
   "source": [
    "#### _What is the distribution of the awards predominantly granted by the institutions?_\n"
   ]
  },
  {
   "cell_type": "code",
   "execution_count": 17,
   "metadata": {},
   "outputs": [
    {
     "data": {
      "text/plain": [
       "Text(0.5,0,'Predominant Award')"
      ]
     },
     "execution_count": 17,
     "metadata": {},
     "output_type": "execute_result"
    },
    {
     "data": {
      "image/png": "[encoded data removed]",
      "text/plain": [
       "<Figure size 432x288 with 1 Axes>"
      ]
     },
     "metadata": {
      "needs_background": "light"
     },
     "output_type": "display_data"
    }
   ],
   "source": [
    "x = df_copy.PREDDEG.value_counts(sort = False).index\n",
    "y = df_copy.PREDDEG.value_counts(sort = False).values\n",
    "\n",
    "plot = sns.barplot(x, y)\n",
    "\n",
    "plot.tick_params(axis='both', which='major', labelsize=10)\n",
    "plot.tick_params(axis='both', which='minor', labelsize=10)\n",
    "plt.ylabel('No. of Institutions', fontsize = 20)\n",
    "plt.xlabel('Predominant Award', fontsize = 20)\n"
   ]
  },
  {
   "cell_type": "markdown",
   "metadata": {},
   "source": [
    ">As seen in the graph above, Certificate is the most predominant award granted by the highest number of institutions while Graduate's degree is the least predominant.\n",
    ">Bachelor's degree comes a close second as being the most predominant degree awarded."
   ]
  },
  {
   "cell_type": "markdown",
   "metadata": {},
   "source": [
    "#### _What is the distribution of the highest award granted by the institutions?_\n"
   ]
  },
  {
   "cell_type": "code",
   "execution_count": 18,
   "metadata": {},
   "outputs": [
    {
     "data": {
      "text/plain": [
       "Text(0.5,0,' Highest Award')"
      ]
     },
     "execution_count": 18,
     "metadata": {},
     "output_type": "execute_result"
    },
    {
     "data": {
      "image/png": "[encoded data removed]",
      "text/plain": [
       "<Figure size 432x288 with 1 Axes>"
      ]
     },
     "metadata": {
      "needs_background": "light"
     },
     "output_type": "display_data"
    }
   ],
   "source": [
    "x = df_copy.HIGHDEG.value_counts(sort = False).index\n",
    "y = df_copy.HIGHDEG.value_counts(sort = False).values\n",
    "\n",
    "plot = sns.barplot(x, y)\n",
    "\n",
    "plot.tick_params(axis='both', which='major', labelsize=10)\n",
    "plot.tick_params(axis='both', which='minor', labelsize=10)\n",
    "plt.ylabel('No. of Institutions', fontsize = 20)\n",
    "plt.xlabel(' Highest Award', fontsize = 20)\n"
   ]
  },
  {
   "cell_type": "markdown",
   "metadata": {},
   "source": [
    ">Certificate and Graduate's degree are the highest awards most universities. As for the bachelor's degree, relatively few universities offer it as their highest degree. \n"
   ]
  },
  {
   "cell_type": "markdown",
   "metadata": {},
   "source": [
    "To study this further, we will look at the bivariate table for this."
   ]
  },
  {
   "cell_type": "code",
   "execution_count": 19,
   "metadata": {},
   "outputs": [
    {
     "data": {
      "text/html": [
       "<div>\n",
       "<style scoped>\n",
       "    .dataframe tbody tr th:only-of-type {\n",
       "        vertical-align: middle;\n",
       "    }\n",
       "\n",
       "    .dataframe tbody tr th {\n",
       "        vertical-align: top;\n",
       "    }\n",
       "\n",
       "    .dataframe thead th {\n",
       "        text-align: right;\n",
       "    }\n",
       "</style>\n",
       "<table border=\"1\" class=\"dataframe\">\n",
       "  <thead>\n",
       "    <tr style=\"text-align: right;\">\n",
       "      <th></th>\n",
       "      <th>HIGHDEG</th>\n",
       "      <th>PREDDEG</th>\n",
       "      <th>Number of Institutions</th>\n",
       "    </tr>\n",
       "  </thead>\n",
       "  <tbody>\n",
       "    <tr>\n",
       "      <td>0</td>\n",
       "      <td>Certificate</td>\n",
       "      <td>Certificate</td>\n",
       "      <td>2279</td>\n",
       "    </tr>\n",
       "    <tr>\n",
       "      <td>1</td>\n",
       "      <td>Associate's</td>\n",
       "      <td>Certificate</td>\n",
       "      <td>631</td>\n",
       "    </tr>\n",
       "    <tr>\n",
       "      <td>2</td>\n",
       "      <td>Associate's</td>\n",
       "      <td>Associate's</td>\n",
       "      <td>887</td>\n",
       "    </tr>\n",
       "    <tr>\n",
       "      <td>3</td>\n",
       "      <td>Bachelor's</td>\n",
       "      <td>Certificate</td>\n",
       "      <td>56</td>\n",
       "    </tr>\n",
       "    <tr>\n",
       "      <td>4</td>\n",
       "      <td>Bachelor's</td>\n",
       "      <td>Associate's</td>\n",
       "      <td>290</td>\n",
       "    </tr>\n",
       "    <tr>\n",
       "      <td>5</td>\n",
       "      <td>Bachelor's</td>\n",
       "      <td>Bachelor's</td>\n",
       "      <td>442</td>\n",
       "    </tr>\n",
       "    <tr>\n",
       "      <td>6</td>\n",
       "      <td>Graduate's</td>\n",
       "      <td>Certificate</td>\n",
       "      <td>36</td>\n",
       "    </tr>\n",
       "    <tr>\n",
       "      <td>7</td>\n",
       "      <td>Graduate's</td>\n",
       "      <td>Associate's</td>\n",
       "      <td>53</td>\n",
       "    </tr>\n",
       "    <tr>\n",
       "      <td>8</td>\n",
       "      <td>Graduate's</td>\n",
       "      <td>Bachelor's</td>\n",
       "      <td>1657</td>\n",
       "    </tr>\n",
       "    <tr>\n",
       "      <td>9</td>\n",
       "      <td>Graduate's</td>\n",
       "      <td>Graduate's</td>\n",
       "      <td>306</td>\n",
       "    </tr>\n",
       "  </tbody>\n",
       "</table>\n",
       "</div>"
      ],
      "text/plain": [
       "       HIGHDEG      PREDDEG  Number of Institutions\n",
       "0  Certificate  Certificate                    2279\n",
       "1  Associate's  Certificate                     631\n",
       "2  Associate's  Associate's                     887\n",
       "3   Bachelor's  Certificate                      56\n",
       "4   Bachelor's  Associate's                     290\n",
       "5   Bachelor's   Bachelor's                     442\n",
       "6   Graduate's  Certificate                      36\n",
       "7   Graduate's  Associate's                      53\n",
       "8   Graduate's   Bachelor's                    1657\n",
       "9   Graduate's   Graduate's                     306"
      ]
     },
     "execution_count": 19,
     "metadata": {},
     "output_type": "execute_result"
    }
   ],
   "source": [
    "df_copy.groupby(['HIGHDEG', 'PREDDEG']).size().reset_index(name = 'Number of Institutions')"
   ]
  },
  {
   "cell_type": "markdown",
   "metadata": {},
   "source": [
    "We can better represent this using a scatterplot."
   ]
  },
  {
   "cell_type": "code",
   "execution_count": 20,
   "metadata": {},
   "outputs": [
    {
     "data": {
      "text/plain": [
       "<matplotlib.axes._subplots.AxesSubplot at 0x29799a825c0>"
      ]
     },
     "execution_count": 20,
     "metadata": {},
     "output_type": "execute_result"
    },
    {
     "data": {
      "image/png": "[encoded data removed]",
      "text/plain": [
       "<Figure size 432x288 with 1 Axes>"
      ]
     },
     "metadata": {},
     "output_type": "display_data"
    }
   ],
   "source": [
    "\n",
    "sns.set_style(\"whitegrid\")\n",
    "sns.scatterplot(x = df_copy['PREDDEG'], y = df_copy['HIGHDEG'])\n"
   ]
  },
  {
   "cell_type": "markdown",
   "metadata": {},
   "source": [
    ">Looking at both the table and the scatterplot, we can see that Certificates are offered by the 2259 institutes as both their highest degree and predominant degree.\n",
    "\n",
    ">306 institutions are predominantly for Bachelor's but offer Graduate's as their highest degree.\n",
    "\n",
    ">Predominantly Graduate's institutions also have the same degree as their highest award, this shows that they are exclusively for Graduate degrees only."
   ]
  },
  {
   "cell_type": "markdown",
   "metadata": {},
   "source": [
    "####  _Which governance structure earns more net tuition per student?_"
   ]
  },
  {
   "cell_type": "code",
   "execution_count": 21,
   "metadata": {},
   "outputs": [
    {
     "data": {
      "text/plain": [
       "count      6644.000000\n",
       "mean      10767.397351\n",
       "std       12535.327041\n",
       "min           0.000000\n",
       "25%        4918.000000\n",
       "50%        9155.500000\n",
       "75%       13906.250000\n",
       "max      712078.000000\n",
       "Name: TUITFTE, dtype: float64"
      ]
     },
     "execution_count": 21,
     "metadata": {},
     "output_type": "execute_result"
    }
   ],
   "source": [
    "df_copy.TUITFTE.describe()"
   ]
  },
  {
   "cell_type": "markdown",
   "metadata": {},
   "source": [
    "We can see that the average net Tuition per Full Time Student is is 10769 US Dollars. We need to see which institutions earn more and less than the average inorder to better look at this correlation."
   ]
  },
  {
   "cell_type": "code",
   "execution_count": 22,
   "metadata": {},
   "outputs": [
    {
     "name": "stdout",
     "output_type": "stream",
     "text": [
      "              CONTROL  More than avg  Less than avg\n",
      "0              Public            164           1819\n",
      "1   Private Nonprofit           1272            623\n",
      "2  Private For-Profit           1219           1547\n"
     ]
    }
   ],
   "source": [
    "greater_avg = df_copy.query('TUITFTE > 10767.397351').groupby('CONTROL').size().reset_index(name = 'More than avg')\n",
    "\n",
    "lesser_avg = df_copy.query('TUITFTE < 10767.397351').groupby('CONTROL').size().reset_index(name = 'Less than avg')\n",
    "\n",
    "\n",
    "df_merged=greater_avg.merge(lesser_avg)\n",
    "\n",
    "print(df_merged)\n"
   ]
  },
  {
   "cell_type": "markdown",
   "metadata": {},
   "source": [
    ">From the above table, it can be seen that only a handful of public institutions earn more than the average of 10769 Dollars. Most of them earn less. \n",
    "\n",
    ">While the number of private schools that earn more than the average is quite high. Of all the institutions that earn more than 10769 Dollars per FTE, 93.8% belong to the private structure."
   ]
  },
  {
   "cell_type": "markdown",
   "metadata": {},
   "source": [
    "#### Correlation: _How is an instution's Net Tuition Fee per Full Time Student correlated to its admission rate?_\n",
    "\n",
    "We will first visualise this relationship using a regression plot and then we will calculate the Pearson's Correlation Coefficient for it."
   ]
  },
  {
   "cell_type": "code",
   "execution_count": 23,
   "metadata": {
    "scrolled": true
   },
   "outputs": [
    {
     "name": "stdout",
     "output_type": "stream",
     "text": [
      "               TUITFTE  ADM_RATE_ALL\n",
      "TUITFTE       1.000000     -0.128895\n",
      "ADM_RATE_ALL -0.128895      1.000000\n"
     ]
    },
    {
     "data": {
      "image/png": "[encoded data removed]",
      "text/plain": [
       "<Figure size 1080x720 with 1 Axes>"
      ]
     },
     "metadata": {},
     "output_type": "display_data"
    }
   ],
   "source": [
    "sns.set_style('dark')\n",
    "\n",
    "\n",
    "plt.figure(figsize = (15, 10))\n",
    "sns.regplot(data = df_copy, x = 'ADM_RATE_ALL', y = 'TUITFTE', fit_reg = False, scatter_kws = {'alpha':1/2})\n",
    "\n",
    "plot.tick_params(axis='both', which='major', labelsize=18)\n",
    "plot.tick_params(axis='both', which='minor', labelsize=18)\n",
    "plt.title('Admission Rate vs. Net Tuition Fee', fontsize = 24)\n",
    "plt.xlabel('Admission Rate across all instituitions', fontsize = 20)\n",
    "plt.ylabel('Net Tuition (Monthly)', fontsize = 20);\n",
    "\n",
    "print(df_copy[['TUITFTE', 'ADM_RATE_ALL']].corr())"
   ]
  },
  {
   "cell_type": "markdown",
   "metadata": {},
   "source": [
    ">The admission fee of the institute is negatively correlated to the net tuition fee per full time student. However, this correlation is weaker than I had expected as there is a common misconception that Highly Selective Institutions are also the most expensive ones. "
   ]
  },
  {
   "cell_type": "code",
   "execution_count": 24,
   "metadata": {},
   "outputs": [
    {
     "data": {
      "text/html": [
       "<div>\n",
       "<style scoped>\n",
       "    .dataframe tbody tr th:only-of-type {\n",
       "        vertical-align: middle;\n",
       "    }\n",
       "\n",
       "    .dataframe tbody tr th {\n",
       "        vertical-align: top;\n",
       "    }\n",
       "\n",
       "    .dataframe thead th {\n",
       "        text-align: right;\n",
       "    }\n",
       "</style>\n",
       "<table border=\"1\" class=\"dataframe\">\n",
       "  <thead>\n",
       "    <tr style=\"text-align: right;\">\n",
       "      <th></th>\n",
       "      <th>UNITID</th>\n",
       "      <th>INSTNM</th>\n",
       "      <th>CITY</th>\n",
       "      <th>STABBR</th>\n",
       "      <th>NUMBRANCH</th>\n",
       "      <th>HIGHDEG</th>\n",
       "      <th>PREDDEG</th>\n",
       "      <th>CONTROL</th>\n",
       "      <th>DISTANCEONLY</th>\n",
       "      <th>TUITFTE</th>\n",
       "      <th>AVGFACSAL</th>\n",
       "      <th>ADM_RATE_ALL</th>\n",
       "      <th>UGDS</th>\n",
       "      <th>PCTFLOAN</th>\n",
       "      <th>SATVR25</th>\n",
       "      <th>SATVR75</th>\n",
       "      <th>SATMT25</th>\n",
       "      <th>SATMT75</th>\n",
       "      <th>ACTCM25</th>\n",
       "      <th>ACTCM75</th>\n",
       "    </tr>\n",
       "  </thead>\n",
       "  <tbody>\n",
       "    <tr>\n",
       "      <td>0</td>\n",
       "      <td>100654</td>\n",
       "      <td>Alabama A &amp; M University</td>\n",
       "      <td>Normal</td>\n",
       "      <td>AL</td>\n",
       "      <td>1</td>\n",
       "      <td>Graduate's</td>\n",
       "      <td>Bachelor's</td>\n",
       "      <td>Public</td>\n",
       "      <td>No</td>\n",
       "      <td>9227.0</td>\n",
       "      <td>6983.0</td>\n",
       "      <td>0.902671</td>\n",
       "      <td>4824.0</td>\n",
       "      <td>0.7697</td>\n",
       "      <td>365.0</td>\n",
       "      <td>485.0</td>\n",
       "      <td>360.0</td>\n",
       "      <td>495.0</td>\n",
       "      <td>16.0</td>\n",
       "      <td>19.0</td>\n",
       "    </tr>\n",
       "    <tr>\n",
       "      <td>1</td>\n",
       "      <td>100663</td>\n",
       "      <td>University of Alabama at Birmingham</td>\n",
       "      <td>Birmingham</td>\n",
       "      <td>AL</td>\n",
       "      <td>1</td>\n",
       "      <td>Graduate's</td>\n",
       "      <td>Bachelor's</td>\n",
       "      <td>Public</td>\n",
       "      <td>No</td>\n",
       "      <td>11612.0</td>\n",
       "      <td>10640.0</td>\n",
       "      <td>0.918068</td>\n",
       "      <td>12866.0</td>\n",
       "      <td>0.5207</td>\n",
       "      <td>440.0</td>\n",
       "      <td>630.0</td>\n",
       "      <td>550.0</td>\n",
       "      <td>740.0</td>\n",
       "      <td>21.0</td>\n",
       "      <td>28.0</td>\n",
       "    </tr>\n",
       "    <tr>\n",
       "      <td>2</td>\n",
       "      <td>100690</td>\n",
       "      <td>Amridge University</td>\n",
       "      <td>Montgomery</td>\n",
       "      <td>AL</td>\n",
       "      <td>1</td>\n",
       "      <td>Graduate's</td>\n",
       "      <td>Bachelor's</td>\n",
       "      <td>Private Nonprofit</td>\n",
       "      <td>Yes</td>\n",
       "      <td>14738.0</td>\n",
       "      <td>3866.0</td>\n",
       "      <td>NaN</td>\n",
       "      <td>322.0</td>\n",
       "      <td>0.8741</td>\n",
       "      <td>NaN</td>\n",
       "      <td>NaN</td>\n",
       "      <td>NaN</td>\n",
       "      <td>NaN</td>\n",
       "      <td>NaN</td>\n",
       "      <td>NaN</td>\n",
       "    </tr>\n",
       "    <tr>\n",
       "      <td>3</td>\n",
       "      <td>100706</td>\n",
       "      <td>University of Alabama in Huntsville</td>\n",
       "      <td>Huntsville</td>\n",
       "      <td>AL</td>\n",
       "      <td>1</td>\n",
       "      <td>Graduate's</td>\n",
       "      <td>Bachelor's</td>\n",
       "      <td>Public</td>\n",
       "      <td>No</td>\n",
       "      <td>8727.0</td>\n",
       "      <td>9391.0</td>\n",
       "      <td>0.812304</td>\n",
       "      <td>6917.0</td>\n",
       "      <td>0.4278</td>\n",
       "      <td>550.0</td>\n",
       "      <td>660.0</td>\n",
       "      <td>530.0</td>\n",
       "      <td>670.0</td>\n",
       "      <td>25.0</td>\n",
       "      <td>31.0</td>\n",
       "    </tr>\n",
       "    <tr>\n",
       "      <td>4</td>\n",
       "      <td>100724</td>\n",
       "      <td>Alabama State University</td>\n",
       "      <td>Montgomery</td>\n",
       "      <td>AL</td>\n",
       "      <td>1</td>\n",
       "      <td>Graduate's</td>\n",
       "      <td>Bachelor's</td>\n",
       "      <td>Public</td>\n",
       "      <td>No</td>\n",
       "      <td>9003.0</td>\n",
       "      <td>7399.0</td>\n",
       "      <td>0.978661</td>\n",
       "      <td>4189.0</td>\n",
       "      <td>0.7690</td>\n",
       "      <td>380.0</td>\n",
       "      <td>485.0</td>\n",
       "      <td>375.0</td>\n",
       "      <td>481.0</td>\n",
       "      <td>16.0</td>\n",
       "      <td>20.0</td>\n",
       "    </tr>\n",
       "  </tbody>\n",
       "</table>\n",
       "</div>"
      ],
      "text/plain": [
       "   UNITID                               INSTNM        CITY STABBR  NUMBRANCH  \\\n",
       "0  100654             Alabama A & M University      Normal     AL          1   \n",
       "1  100663  University of Alabama at Birmingham  Birmingham     AL          1   \n",
       "2  100690                   Amridge University  Montgomery     AL          1   \n",
       "3  100706  University of Alabama in Huntsville  Huntsville     AL          1   \n",
       "4  100724             Alabama State University  Montgomery     AL          1   \n",
       "\n",
       "      HIGHDEG     PREDDEG            CONTROL DISTANCEONLY  TUITFTE  AVGFACSAL  \\\n",
       "0  Graduate's  Bachelor's             Public           No   9227.0     6983.0   \n",
       "1  Graduate's  Bachelor's             Public           No  11612.0    10640.0   \n",
       "2  Graduate's  Bachelor's  Private Nonprofit          Yes  14738.0     3866.0   \n",
       "3  Graduate's  Bachelor's             Public           No   8727.0     9391.0   \n",
       "4  Graduate's  Bachelor's             Public           No   9003.0     7399.0   \n",
       "\n",
       "   ADM_RATE_ALL     UGDS  PCTFLOAN  SATVR25  SATVR75  SATMT25  SATMT75  \\\n",
       "0      0.902671   4824.0    0.7697    365.0    485.0    360.0    495.0   \n",
       "1      0.918068  12866.0    0.5207    440.0    630.0    550.0    740.0   \n",
       "2           NaN    322.0    0.8741      NaN      NaN      NaN      NaN   \n",
       "3      0.812304   6917.0    0.4278    550.0    660.0    530.0    670.0   \n",
       "4      0.978661   4189.0    0.7690    380.0    485.0    375.0    481.0   \n",
       "\n",
       "   ACTCM25  ACTCM75  \n",
       "0     16.0     19.0  \n",
       "1     21.0     28.0  \n",
       "2      NaN      NaN  \n",
       "3     25.0     31.0  \n",
       "4     16.0     20.0  "
      ]
     },
     "execution_count": 24,
     "metadata": {},
     "output_type": "execute_result"
    }
   ],
   "source": [
    "df_copy.head()"
   ]
  },
  {
   "cell_type": "markdown",
   "metadata": {},
   "source": [
    "#### _Predicting if a student's application will be accepted or not._\n",
    "\n",
    "I will first convert all the float64 variables to int64 and replace the NaN with 0s for preprocessing"
   ]
  },
  {
   "cell_type": "code",
   "execution_count": 25,
   "metadata": {},
   "outputs": [],
   "source": [
    "\n",
    "df_copy['TUITFTE'] = df_copy['TUITFTE'].fillna(0).astype(np.int64)\n",
    "df_copy['TUITFTE'] = df_copy['TUITFTE'].astype(np.int64)\n",
    "\n",
    "df_copy['AVGFACSAL'] = df_copy['AVGFACSAL'].fillna(0).astype(np.int64)\n",
    "df_copy['AVGFACSAL'] = df_copy['AVGFACSAL'].astype(np.int64)\n",
    "\n",
    "df_copy['ADM_RATE_ALL'] = df_copy['ADM_RATE_ALL'].fillna(0).astype(np.int64)\n",
    "df_copy['ADM_RATE_ALL'] = df_copy['ADM_RATE_ALL'].astype(np.int64)\n",
    "\n",
    "df_copy['UGDS'] = df_copy['UGDS'].fillna(0).astype(np.int64)\n",
    "df_copy['UGDS'] = df_copy['UGDS'].astype(np.int64)\n",
    "\n",
    "df_copy['PCTFLOAN'] = df_copy['PCTFLOAN'].fillna(0).astype(np.int64)\n",
    "df_copy['PCTFLOAN'] = df_copy['PCTFLOAN'].astype(np.int64)\n",
    "\n",
    "df_copy['SATVR25'] = df_copy['SATVR25'].fillna(0).astype(np.int64)\n",
    "df_copy['SATVR25'] = df_copy['SATVR25'].astype(np.int64)\n",
    "\n",
    "df_copy['SATVR75'] = df_copy['SATVR75'].fillna(0).astype(np.int64)\n",
    "df_copy['SATVR75'] = df_copy['SATVR75'].astype(np.int64)\n",
    "\n",
    "df_copy['SATMT25'] = df_copy['SATMT25'].fillna(0).astype(np.int64)\n",
    "df_copy['SATMT25'] = df_copy['SATMT25'].astype(np.int64)\n",
    "\n",
    "df_copy['SATMT75'] = df_copy['SATMT75'].fillna(0).astype(np.int64)\n",
    "df_copy['SATMT75'] = df_copy['SATMT75'].astype(np.int64)\n",
    "\n",
    "df_copy['ACTCM25'] = df_copy['ACTCM25'].fillna(0).astype(np.int64)\n",
    "df_copy['ACTCM25'] = df_copy['ACTCM25'].astype(np.int64)\n",
    "\n",
    "df_copy['ACTCM75'] = df_copy['ACTCM75'].fillna(0).astype(np.int64)\n",
    "df_copy['ACTCM75'] = df_copy['ACTCM75'].astype(np.int64)\n"
   ]
  },
  {
   "cell_type": "markdown",
   "metadata": {},
   "source": [
    "\n",
    "We need to choose the feature values we need and scale them to a uniform range."
   ]
  },
  {
   "cell_type": "code",
   "execution_count": 26,
   "metadata": {},
   "outputs": [],
   "source": [
    "\n",
    "df_pred = df_copy[['UNITID', 'NUMBRANCH', \n",
    "                    'TUITFTE', 'AVGFACSAL', 'ADM_RATE_ALL', 'UGDS', 'PCTFLOAN', 'SATVR25', 'SATVR75','SATMT25','SATMT75','ACTCM25','ACTCM75' ]]\n",
    "\n",
    "df_pred = df_pred.values\n",
    "\n",
    "# Segregate features and labels \n",
    "X,y = df_pred[:,0:12] , df_pred[:,12]\n",
    "\n",
    "#using MinMaxScaler to rescale\n",
    "scaler = MinMaxScaler(copy=True,feature_range=(0,1))\n",
    "rescaledX = scaler.fit_transform(X)"
   ]
  },
  {
   "cell_type": "markdown",
   "metadata": {},
   "source": [
    "We will split our data into train set and test set to prepare our data for two different phases of machine learning modeling: training and testing."
   ]
  },
  {
   "cell_type": "code",
   "execution_count": 27,
   "metadata": {},
   "outputs": [],
   "source": [
    "X_train, X_test, y_train, y_test = train_test_split(rescaledX,\n",
    "                                                    y,\n",
    "                                                    test_size = 0.33,\n",
    "                                                    random_state = 42)\n"
   ]
  },
  {
   "cell_type": "markdown",
   "metadata": {},
   "source": [
    "We will use the Logistic Regression for the prediction"
   ]
  },
  {
   "cell_type": "code",
   "execution_count": 28,
   "metadata": {},
   "outputs": [
    {
     "data": {
      "text/plain": [
       "LogisticRegression(C=1.0, class_weight=None, dual=False, fit_intercept=True,\n",
       "                   intercept_scaling=1, l1_ratio=None, max_iter=100,\n",
       "                   multi_class='warn', n_jobs=None, penalty='l2',\n",
       "                   random_state=None, solver='warn', tol=0.0001, verbose=0,\n",
       "                   warm_start=False)"
      ]
     },
     "execution_count": 28,
     "metadata": {},
     "output_type": "execute_result"
    }
   ],
   "source": [
    "\n",
    "logreg = LogisticRegression()\n",
    "\n",
    "logreg.fit(X_train,y_train)"
   ]
  },
  {
   "cell_type": "code",
   "execution_count": 29,
   "metadata": {},
   "outputs": [
    {
     "name": "stdout",
     "output_type": "stream",
     "text": [
      "Accuracy of logistic regression classifier:  0.8351086493395824\n"
     ]
    },
    {
     "data": {
      "text/plain": [
       "array([[1921,    1,    2,    3,    1,    0,    0,    1,    5,    8,    7,\n",
       "           2,    0,    1,    1,    0,    0,    0,    0,    0,    0],\n",
       "       [   0,    0,    0,    0,    0,    0,    0,    0,    0,    0,    0,\n",
       "           0,    0,    0,    0,    0,    0,    0,    0,    0,    0],\n",
       "       [   0,    0,    0,    0,    0,    0,    0,    0,    0,    0,    0,\n",
       "           0,    0,    0,    0,    0,    0,    0,    0,    0,    0],\n",
       "       [   0,    0,    0,    0,    0,    0,    0,    0,    0,    0,    0,\n",
       "           0,    0,    0,    0,    0,    0,    0,    0,    0,    0],\n",
       "       [   0,    0,    0,    0,    0,    0,    0,    0,    0,    0,    0,\n",
       "           0,    0,    0,    0,    0,    0,    0,    0,    0,    0],\n",
       "       [   0,    0,    0,    0,    0,    0,    0,    0,    0,    0,    0,\n",
       "           0,    0,    0,    0,    0,    0,    0,    0,    0,    0],\n",
       "       [   0,    0,    0,    0,    0,    0,    0,    0,    0,    0,    0,\n",
       "           0,    0,    0,    0,    0,    0,    0,    0,    0,    0],\n",
       "       [   0,    0,    0,    0,    0,    0,    0,    0,    0,    0,    0,\n",
       "           0,    0,    0,    0,    0,    0,    0,    0,    0,    0],\n",
       "       [   0,    0,    0,    0,    0,    0,    0,    0,    2,    1,    0,\n",
       "           0,    0,    0,    0,    0,    0,    0,    0,    0,    0],\n",
       "       [   0,    0,    0,    0,    0,    0,    0,    0,    0,    0,    0,\n",
       "           0,    0,    0,    0,    0,    0,    0,    0,    0,    0],\n",
       "       [   0,    0,    0,    3,    0,    5,    5,    7,   10,    7,    4,\n",
       "           3,    1,    2,    0,    0,    0,    0,    0,    0,    0],\n",
       "       [   0,    0,    0,    1,    1,    4,    3,   20,   37,   42,   45,\n",
       "          33,   38,   30,   25,   16,    9,   18,    7,    8,    7],\n",
       "       [   0,    0,    0,    0,    0,    0,    0,    0,    0,    0,    0,\n",
       "           0,    0,    0,    0,    0,    0,    0,    0,    0,    0],\n",
       "       [   0,    0,    0,    0,    0,    0,    0,    0,    0,    0,    0,\n",
       "           0,    0,    0,    0,    0,    0,    0,    0,    0,    0],\n",
       "       [   0,    0,    0,    0,    0,    0,    0,    0,    0,    0,    0,\n",
       "           0,    0,    0,    0,    0,    0,    0,    0,    0,    0],\n",
       "       [   0,    0,    0,    0,    0,    0,    0,    0,    0,    0,    0,\n",
       "           0,    0,    0,    0,    0,    0,    0,    0,    0,    0],\n",
       "       [   0,    0,    0,    0,    0,    0,    0,    0,    0,    0,    0,\n",
       "           0,    0,    0,    0,    0,    0,    0,    0,    0,    0],\n",
       "       [   0,    0,    0,    0,    0,    0,    0,    0,    0,    0,    0,\n",
       "           0,    0,    0,    0,    0,    0,    0,    0,    0,    0],\n",
       "       [   0,    0,    0,    0,    0,    0,    0,    0,    0,    0,    0,\n",
       "           0,    0,    0,    0,    0,    0,    0,    0,    0,    0],\n",
       "       [   0,    0,    0,    0,    0,    0,    0,    0,    0,    0,    0,\n",
       "           0,    0,    0,    0,    0,    0,    0,    0,    0,    0],\n",
       "       [   0,    0,    0,    0,    0,    0,    0,    0,    0,    0,    0,\n",
       "           0,    0,    0,    0,    0,    0,    0,    0,    0,    0]],\n",
       "      dtype=int64)"
      ]
     },
     "execution_count": 29,
     "metadata": {},
     "output_type": "execute_result"
    }
   ],
   "source": [
    "y_pred = logreg.predict(X_test)\n",
    "\n",
    "print(\"Accuracy of logistic regression classifier: \", logreg.score(X_test, y_test))\n",
    "\n",
    "confusion_matrix(y_pred, y_test)"
   ]
  },
  {
   "cell_type": "markdown",
   "metadata": {},
   "source": [
    "The Logistic Regression Model gave us an accuracy of 83%. We will try using the Decision Tree Model how to see if we can get a higher accuracy."
   ]
  },
  {
   "cell_type": "code",
   "execution_count": 30,
   "metadata": {},
   "outputs": [],
   "source": [
    "clf = tree.DecisionTreeClassifier()\n",
    "\n",
    "clf = clf.fit(X_train, y_train)"
   ]
  },
  {
   "cell_type": "code",
   "execution_count": 31,
   "metadata": {},
   "outputs": [
    {
     "name": "stdout",
     "output_type": "stream",
     "text": [
      "Accuracy of decision tree classifier:  0.8828291435875586\n"
     ]
    },
    {
     "data": {
      "text/plain": [
       "array([[1921,    0,    0,    0,    0,    0,    0,    0,    0,    0,    0,\n",
       "           0,    0,    0,    0,    0,    0,    0,    0,    0,    0,    0,\n",
       "           0],\n",
       "       [   0,    0,    1,    0,    0,    0,    0,    0,    0,    0,    0,\n",
       "           0,    0,    0,    0,    0,    0,    0,    0,    0,    0,    0,\n",
       "           0],\n",
       "       [   0,    0,    0,    0,    0,    0,    0,    0,    0,    0,    0,\n",
       "           0,    0,    0,    0,    0,    0,    0,    0,    0,    0,    0,\n",
       "           0],\n",
       "       [   0,    0,    0,    0,    1,    1,    0,    0,    0,    0,    0,\n",
       "           0,    0,    0,    0,    0,    0,    0,    0,    0,    0,    0,\n",
       "           0],\n",
       "       [   0,    0,    0,    0,    1,    1,    1,    0,    0,    0,    0,\n",
       "           0,    0,    0,    0,    0,    0,    0,    0,    0,    0,    0,\n",
       "           0],\n",
       "       [   0,    0,    0,    0,    0,    3,    0,    1,    0,    0,    0,\n",
       "           0,    0,    0,    0,    0,    0,    0,    0,    0,    0,    0,\n",
       "           0],\n",
       "       [   0,    0,    0,    0,    0,    1,    1,    1,    1,    0,    1,\n",
       "           1,    0,    0,    0,    0,    0,    0,    0,    0,    0,    0,\n",
       "           0],\n",
       "       [   0,    0,    0,    0,    0,    0,    0,    1,    2,    2,    2,\n",
       "           1,    0,    1,    0,    0,    0,    0,    0,    0,    0,    0,\n",
       "           0],\n",
       "       [   0,    0,    0,    0,    0,    0,    0,    1,    1,    0,    7,\n",
       "           2,    0,    0,    0,    1,    0,    0,    0,    0,    0,    0,\n",
       "           0],\n",
       "       [   0,    0,    0,    0,    0,    1,    0,    4,    1,   10,    9,\n",
       "           3,    3,    0,    0,    0,    0,    0,    0,    0,    0,    0,\n",
       "           0],\n",
       "       [   0,    0,    0,    0,    0,    0,    0,    1,    1,   10,   18,\n",
       "           8,    4,    1,    0,    1,    1,    0,    0,    0,    0,    0,\n",
       "           0],\n",
       "       [   0,    0,    0,    0,    0,    0,    0,    0,    2,    5,   12,\n",
       "          20,   11,    5,    1,    2,    0,    0,    0,    0,    0,    0,\n",
       "           0],\n",
       "       [   0,    0,    0,    0,    0,    0,    0,    0,    0,    1,    3,\n",
       "          15,   18,    5,    3,    1,    0,    0,    0,    0,    0,    0,\n",
       "           0],\n",
       "       [   0,    0,    0,    0,    0,    0,    0,    0,    0,    0,    1,\n",
       "           6,   17,   14,   12,    4,    0,    0,    0,    1,    0,    0,\n",
       "           0],\n",
       "       [   0,    0,    0,    0,    0,    0,    0,    0,    0,    0,    1,\n",
       "           1,    3,   12,   13,    9,    0,    0,    0,    0,    0,    0,\n",
       "           0],\n",
       "       [   0,    0,    0,    0,    0,    0,    0,    0,    0,    0,    0,\n",
       "           1,    0,    0,    4,    7,    6,    0,    0,    0,    0,    0,\n",
       "           0],\n",
       "       [   0,    0,    0,    0,    0,    0,    0,    0,    0,    0,    0,\n",
       "           0,    0,    0,    5,    6,   13,    5,    0,    0,    0,    0,\n",
       "           0],\n",
       "       [   0,    0,    0,    0,    0,    0,    0,    0,    0,    0,    0,\n",
       "           0,    0,    0,    0,    1,    6,    7,    2,    1,    0,    0,\n",
       "           0],\n",
       "       [   0,    0,    0,    0,    0,    0,    0,    0,    0,    0,    0,\n",
       "           0,    0,    0,    0,    0,    0,    4,    5,    7,    0,    0,\n",
       "           0],\n",
       "       [   0,    0,    0,    0,    0,    0,    0,    0,    0,    0,    0,\n",
       "           0,    0,    0,    1,    1,    0,    0,    1,    8,    2,    0,\n",
       "           0],\n",
       "       [   0,    0,    0,    0,    0,    0,    0,    0,    0,    0,    0,\n",
       "           0,    0,    0,    0,    0,    0,    0,    1,    1,    2,    1,\n",
       "           0],\n",
       "       [   0,    0,    0,    0,    0,    0,    0,    0,    0,    0,    0,\n",
       "           0,    0,    0,    0,    0,    0,    0,    0,    0,    3,    6,\n",
       "           4],\n",
       "       [   0,    0,    0,    0,    0,    0,    0,    0,    0,    0,    0,\n",
       "           0,    0,    0,    0,    0,    0,    0,    0,    0,    0,    1,\n",
       "           3]], dtype=int64)"
      ]
     },
     "execution_count": 31,
     "metadata": {},
     "output_type": "execute_result"
    }
   ],
   "source": [
    "y_pred = clf.predict(X_test)\n",
    "\n",
    "print(\"Accuracy of decision tree classifier: \", clf.score(X_test, y_test))\n",
    "\n",
    "\n",
    "confusion_matrix(y_pred, y_test)\n"
   ]
  },
  {
   "cell_type": "markdown",
   "metadata": {},
   "source": [
    "The decision tree model gave us an accuracy of 88%. This means our model successfully predicted the result of an Applicant by 88%s"
   ]
  },
  {
   "cell_type": "code",
   "execution_count": null,
   "metadata": {},
   "outputs": [],
   "source": []
  }
 ],
 "metadata": {
  "kernelspec": {
   "display_name": "Python 3",
   "language": "python",
   "name": "python3"
  },
  "language_info": {
   "codemirror_mode": {
    "name": "ipython",
    "version": 3
   },
   "file_extension": ".py",
   "mimetype": "text/x-python",
   "name": "python",
   "nbconvert_exporter": "python",
   "pygments_lexer": "ipython3",
   "version": "3.6.4"
  }
 },
 "nbformat": 4,
 "nbformat_minor": 2
}
